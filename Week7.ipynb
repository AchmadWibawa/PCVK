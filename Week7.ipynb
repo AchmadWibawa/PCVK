{
  "nbformat": 4,
  "nbformat_minor": 0,
  "metadata": {
    "colab": {
      "provenance": [],
      "authorship_tag": "ABX9TyNsQSliQk7NSjfJmUGCAczF",
      "include_colab_link": true
    },
    "kernelspec": {
      "name": "python3",
      "display_name": "Python 3"
    },
    "language_info": {
      "name": "python"
    }
  },
  "cells": [
    {
      "cell_type": "markdown",
      "metadata": {
        "id": "view-in-github",
        "colab_type": "text"
      },
      "source": [
        "<a href=\"https://colab.research.google.com/github/AchmadWibawa/PCVK/blob/master/Week7.ipynb\" target=\"_parent\"><img src=\"https://colab.research.google.com/assets/colab-badge.svg\" alt=\"Open In Colab\"/></a>"
      ]
    },
    {
      "cell_type": "markdown",
      "source": [
        "# Achmad Wibawa / 01 / 2041720174 / TI 3B"
      ],
      "metadata": {
        "id": "633_JCZmXAOY"
      }
    },
    {
      "cell_type": "code",
      "execution_count": 1,
      "metadata": {
        "colab": {
          "base_uri": "https://localhost:8080/"
        },
        "id": "22bdmzlcWiIs",
        "outputId": "f38e288a-1740-4a07-ce35-c6a536957395"
      },
      "outputs": [
        {
          "output_type": "stream",
          "name": "stdout",
          "text": [
            "Mounted at /content/drive\n"
          ]
        }
      ],
      "source": [
        "from google.colab import drive\n",
        "\n",
        "drive.mount('/content/drive')"
      ]
    },
    {
      "cell_type": "code",
      "source": [
        "import numpy as np\n",
        "import matplotlib.pyplot as plt\n",
        "import cv2 as cv\n",
        "import math\n",
        "from google.colab.patches import cv2_imshow\n",
        "from PIL import Image as im"
      ],
      "metadata": {
        "id": "3SCO0l-NXdeL"
      },
      "execution_count": 2,
      "outputs": []
    },
    {
      "cell_type": "markdown",
      "source": [
        "## Konvolusi Tanpa Library"
      ],
      "metadata": {
        "id": "XIdzqNvKYU-7"
      }
    },
    {
      "cell_type": "code",
      "source": [],
      "metadata": {
        "id": "VbbwIC2iX0aZ"
      },
      "execution_count": null,
      "outputs": []
    }
  ]
}